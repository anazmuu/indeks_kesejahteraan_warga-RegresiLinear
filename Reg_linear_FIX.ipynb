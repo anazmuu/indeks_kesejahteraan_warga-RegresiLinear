{
  "nbformat": 4,
  "nbformat_minor": 0,
  "metadata": {
    "colab": {
      "name": "Reg_linear_FIX.ipynb",
      "provenance": [],
      "collapsed_sections": []
    },
    "kernelspec": {
      "name": "python3",
      "display_name": "Python 3"
    },
    "language_info": {
      "name": "python"
    }
  },
  "cells": [
    {
      "cell_type": "code",
      "metadata": {
        "id": "KEuGh53Ioiig",
        "colab": {
          "base_uri": "https://localhost:8080/"
        },
        "outputId": "3f64149b-8ecf-496e-d3f1-8427d1c58cd2"
      },
      "source": [
        "from google.colab import drive #MEMANGGIL PACKAGE UNTUK PATH FILE\n",
        "drive.mount('/content/drive')\n",
        "#1. URL , 2. UPLOAD CSV , DATASET YANG DI SEDIAKAN OLEH SKLEARN\n",
        "#SKLEAN = LIBRARY/PACKAGE YG MENAMPUNG METODE ATAU ALGORITMA UNTUK MACHINE LEARNING\n",
        "# LINK : https://s.id/IPabR"
      ],
      "execution_count": null,
      "outputs": [
        {
          "output_type": "stream",
          "name": "stdout",
          "text": [
            "Mounted at /content/drive\n"
          ]
        }
      ]
    },
    {
      "cell_type": "code",
      "metadata": {
        "colab": {
          "base_uri": "https://localhost:8080/",
          "height": 300
        },
        "id": "3fVSV_lGoxmN",
        "outputId": "235e4846-340b-42b3-ba52-acda05878723"
      },
      "source": [
        "import pandas as pd #MANIPULASI DATA\n",
        "\n",
        "path ='/content/drive/MyDrive/CSV/indeks-kesejahteraanfix.csv' #PATH ATAU PEMANGGILAN DATA\n",
        "df = pd.read_csv(path) #DF : DATAFRAME / UNTUK PENAMAAN BEBAS\n",
        "\n",
        "df.describe() #melihat struktur data"
      ],
      "execution_count": null,
      "outputs": [
        {
          "output_type": "execute_result",
          "data": {
            "text/plain": [
              "       Indeks_Kesejahteraan  Jml_Penduduk\n",
              "count             20.000000     20.000000\n",
              "mean               9.635000   4634.750000\n",
              "std                5.197497   2637.616765\n",
              "min                2.600000   1176.000000\n",
              "25%                5.700000   2445.000000\n",
              "50%                9.150000   4133.500000\n",
              "75%               12.850000   6554.250000\n",
              "max               19.300000   9664.000000"
            ],
            "text/html": [
              "\n",
              "  <div id=\"df-fab14bc4-8fa5-4a3f-93d5-13da364f4463\">\n",
              "    <div class=\"colab-df-container\">\n",
              "      <div>\n",
              "<style scoped>\n",
              "    .dataframe tbody tr th:only-of-type {\n",
              "        vertical-align: middle;\n",
              "    }\n",
              "\n",
              "    .dataframe tbody tr th {\n",
              "        vertical-align: top;\n",
              "    }\n",
              "\n",
              "    .dataframe thead th {\n",
              "        text-align: right;\n",
              "    }\n",
              "</style>\n",
              "<table border=\"1\" class=\"dataframe\">\n",
              "  <thead>\n",
              "    <tr style=\"text-align: right;\">\n",
              "      <th></th>\n",
              "      <th>Indeks_Kesejahteraan</th>\n",
              "      <th>Jml_Penduduk</th>\n",
              "    </tr>\n",
              "  </thead>\n",
              "  <tbody>\n",
              "    <tr>\n",
              "      <th>count</th>\n",
              "      <td>20.000000</td>\n",
              "      <td>20.000000</td>\n",
              "    </tr>\n",
              "    <tr>\n",
              "      <th>mean</th>\n",
              "      <td>9.635000</td>\n",
              "      <td>4634.750000</td>\n",
              "    </tr>\n",
              "    <tr>\n",
              "      <th>std</th>\n",
              "      <td>5.197497</td>\n",
              "      <td>2637.616765</td>\n",
              "    </tr>\n",
              "    <tr>\n",
              "      <th>min</th>\n",
              "      <td>2.600000</td>\n",
              "      <td>1176.000000</td>\n",
              "    </tr>\n",
              "    <tr>\n",
              "      <th>25%</th>\n",
              "      <td>5.700000</td>\n",
              "      <td>2445.000000</td>\n",
              "    </tr>\n",
              "    <tr>\n",
              "      <th>50%</th>\n",
              "      <td>9.150000</td>\n",
              "      <td>4133.500000</td>\n",
              "    </tr>\n",
              "    <tr>\n",
              "      <th>75%</th>\n",
              "      <td>12.850000</td>\n",
              "      <td>6554.250000</td>\n",
              "    </tr>\n",
              "    <tr>\n",
              "      <th>max</th>\n",
              "      <td>19.300000</td>\n",
              "      <td>9664.000000</td>\n",
              "    </tr>\n",
              "  </tbody>\n",
              "</table>\n",
              "</div>\n",
              "      <button class=\"colab-df-convert\" onclick=\"convertToInteractive('df-fab14bc4-8fa5-4a3f-93d5-13da364f4463')\"\n",
              "              title=\"Convert this dataframe to an interactive table.\"\n",
              "              style=\"display:none;\">\n",
              "        \n",
              "  <svg xmlns=\"http://www.w3.org/2000/svg\" height=\"24px\"viewBox=\"0 0 24 24\"\n",
              "       width=\"24px\">\n",
              "    <path d=\"M0 0h24v24H0V0z\" fill=\"none\"/>\n",
              "    <path d=\"M18.56 5.44l.94 2.06.94-2.06 2.06-.94-2.06-.94-.94-2.06-.94 2.06-2.06.94zm-11 1L8.5 8.5l.94-2.06 2.06-.94-2.06-.94L8.5 2.5l-.94 2.06-2.06.94zm10 10l.94 2.06.94-2.06 2.06-.94-2.06-.94-.94-2.06-.94 2.06-2.06.94z\"/><path d=\"M17.41 7.96l-1.37-1.37c-.4-.4-.92-.59-1.43-.59-.52 0-1.04.2-1.43.59L10.3 9.45l-7.72 7.72c-.78.78-.78 2.05 0 2.83L4 21.41c.39.39.9.59 1.41.59.51 0 1.02-.2 1.41-.59l7.78-7.78 2.81-2.81c.8-.78.8-2.07 0-2.86zM5.41 20L4 18.59l7.72-7.72 1.47 1.35L5.41 20z\"/>\n",
              "  </svg>\n",
              "      </button>\n",
              "      \n",
              "  <style>\n",
              "    .colab-df-container {\n",
              "      display:flex;\n",
              "      flex-wrap:wrap;\n",
              "      gap: 12px;\n",
              "    }\n",
              "\n",
              "    .colab-df-convert {\n",
              "      background-color: #E8F0FE;\n",
              "      border: none;\n",
              "      border-radius: 50%;\n",
              "      cursor: pointer;\n",
              "      display: none;\n",
              "      fill: #1967D2;\n",
              "      height: 32px;\n",
              "      padding: 0 0 0 0;\n",
              "      width: 32px;\n",
              "    }\n",
              "\n",
              "    .colab-df-convert:hover {\n",
              "      background-color: #E2EBFA;\n",
              "      box-shadow: 0px 1px 2px rgba(60, 64, 67, 0.3), 0px 1px 3px 1px rgba(60, 64, 67, 0.15);\n",
              "      fill: #174EA6;\n",
              "    }\n",
              "\n",
              "    [theme=dark] .colab-df-convert {\n",
              "      background-color: #3B4455;\n",
              "      fill: #D2E3FC;\n",
              "    }\n",
              "\n",
              "    [theme=dark] .colab-df-convert:hover {\n",
              "      background-color: #434B5C;\n",
              "      box-shadow: 0px 1px 3px 1px rgba(0, 0, 0, 0.15);\n",
              "      filter: drop-shadow(0px 1px 2px rgba(0, 0, 0, 0.3));\n",
              "      fill: #FFFFFF;\n",
              "    }\n",
              "  </style>\n",
              "\n",
              "      <script>\n",
              "        const buttonEl =\n",
              "          document.querySelector('#df-fab14bc4-8fa5-4a3f-93d5-13da364f4463 button.colab-df-convert');\n",
              "        buttonEl.style.display =\n",
              "          google.colab.kernel.accessAllowed ? 'block' : 'none';\n",
              "\n",
              "        async function convertToInteractive(key) {\n",
              "          const element = document.querySelector('#df-fab14bc4-8fa5-4a3f-93d5-13da364f4463');\n",
              "          const dataTable =\n",
              "            await google.colab.kernel.invokeFunction('convertToInteractive',\n",
              "                                                     [key], {});\n",
              "          if (!dataTable) return;\n",
              "\n",
              "          const docLinkHtml = 'Like what you see? Visit the ' +\n",
              "            '<a target=\"_blank\" href=https://colab.research.google.com/notebooks/data_table.ipynb>data table notebook</a>'\n",
              "            + ' to learn more about interactive tables.';\n",
              "          element.innerHTML = '';\n",
              "          dataTable['output_type'] = 'display_data';\n",
              "          await google.colab.output.renderOutput(dataTable, element);\n",
              "          const docLink = document.createElement('div');\n",
              "          docLink.innerHTML = docLinkHtml;\n",
              "          element.appendChild(docLink);\n",
              "        }\n",
              "      </script>\n",
              "    </div>\n",
              "  </div>\n",
              "  "
            ]
          },
          "metadata": {},
          "execution_count": 2
        }
      ]
    },
    {
      "cell_type": "code",
      "metadata": {
        "colab": {
          "base_uri": "https://localhost:8080/",
          "height": 677
        },
        "id": "W0TwkM93o3Ge",
        "outputId": "d5da4bf9-0dce-4040-81b9-1da035b615f0"
      },
      "source": [
        "df #MEMANGGIL ISI DARI DATA INDEKS KESEJAHTERAAN"
      ],
      "execution_count": null,
      "outputs": [
        {
          "output_type": "execute_result",
          "data": {
            "text/plain": [
              "    Indeks_Kesejahteraan  Jml_Penduduk\n",
              "0                   12.3          6395\n",
              "1                    6.1          2583\n",
              "2                    9.4          4479\n",
              "3                    3.5          1864\n",
              "4                   11.2          5486\n",
              "5                    5.1          2385\n",
              "6                   18.6          9144\n",
              "7                   10.5          5078\n",
              "8                    3.6          1997\n",
              "9                    5.9          2465\n",
              "10                   7.3          3198\n",
              "11                  15.5          7358\n",
              "12                   2.6          1176\n",
              "13                   8.9          3788\n",
              "14                   4.7          2297\n",
              "15                  19.3          9664\n",
              "16                  17.4          8759\n",
              "17                   9.8          4782\n",
              "18                   6.5          2765\n",
              "19                  14.5          7032"
            ],
            "text/html": [
              "\n",
              "  <div id=\"df-58dc88a2-a0b9-4c3a-bb26-fc1436a0c3c6\">\n",
              "    <div class=\"colab-df-container\">\n",
              "      <div>\n",
              "<style scoped>\n",
              "    .dataframe tbody tr th:only-of-type {\n",
              "        vertical-align: middle;\n",
              "    }\n",
              "\n",
              "    .dataframe tbody tr th {\n",
              "        vertical-align: top;\n",
              "    }\n",
              "\n",
              "    .dataframe thead th {\n",
              "        text-align: right;\n",
              "    }\n",
              "</style>\n",
              "<table border=\"1\" class=\"dataframe\">\n",
              "  <thead>\n",
              "    <tr style=\"text-align: right;\">\n",
              "      <th></th>\n",
              "      <th>Indeks_Kesejahteraan</th>\n",
              "      <th>Jml_Penduduk</th>\n",
              "    </tr>\n",
              "  </thead>\n",
              "  <tbody>\n",
              "    <tr>\n",
              "      <th>0</th>\n",
              "      <td>12.3</td>\n",
              "      <td>6395</td>\n",
              "    </tr>\n",
              "    <tr>\n",
              "      <th>1</th>\n",
              "      <td>6.1</td>\n",
              "      <td>2583</td>\n",
              "    </tr>\n",
              "    <tr>\n",
              "      <th>2</th>\n",
              "      <td>9.4</td>\n",
              "      <td>4479</td>\n",
              "    </tr>\n",
              "    <tr>\n",
              "      <th>3</th>\n",
              "      <td>3.5</td>\n",
              "      <td>1864</td>\n",
              "    </tr>\n",
              "    <tr>\n",
              "      <th>4</th>\n",
              "      <td>11.2</td>\n",
              "      <td>5486</td>\n",
              "    </tr>\n",
              "    <tr>\n",
              "      <th>5</th>\n",
              "      <td>5.1</td>\n",
              "      <td>2385</td>\n",
              "    </tr>\n",
              "    <tr>\n",
              "      <th>6</th>\n",
              "      <td>18.6</td>\n",
              "      <td>9144</td>\n",
              "    </tr>\n",
              "    <tr>\n",
              "      <th>7</th>\n",
              "      <td>10.5</td>\n",
              "      <td>5078</td>\n",
              "    </tr>\n",
              "    <tr>\n",
              "      <th>8</th>\n",
              "      <td>3.6</td>\n",
              "      <td>1997</td>\n",
              "    </tr>\n",
              "    <tr>\n",
              "      <th>9</th>\n",
              "      <td>5.9</td>\n",
              "      <td>2465</td>\n",
              "    </tr>\n",
              "    <tr>\n",
              "      <th>10</th>\n",
              "      <td>7.3</td>\n",
              "      <td>3198</td>\n",
              "    </tr>\n",
              "    <tr>\n",
              "      <th>11</th>\n",
              "      <td>15.5</td>\n",
              "      <td>7358</td>\n",
              "    </tr>\n",
              "    <tr>\n",
              "      <th>12</th>\n",
              "      <td>2.6</td>\n",
              "      <td>1176</td>\n",
              "    </tr>\n",
              "    <tr>\n",
              "      <th>13</th>\n",
              "      <td>8.9</td>\n",
              "      <td>3788</td>\n",
              "    </tr>\n",
              "    <tr>\n",
              "      <th>14</th>\n",
              "      <td>4.7</td>\n",
              "      <td>2297</td>\n",
              "    </tr>\n",
              "    <tr>\n",
              "      <th>15</th>\n",
              "      <td>19.3</td>\n",
              "      <td>9664</td>\n",
              "    </tr>\n",
              "    <tr>\n",
              "      <th>16</th>\n",
              "      <td>17.4</td>\n",
              "      <td>8759</td>\n",
              "    </tr>\n",
              "    <tr>\n",
              "      <th>17</th>\n",
              "      <td>9.8</td>\n",
              "      <td>4782</td>\n",
              "    </tr>\n",
              "    <tr>\n",
              "      <th>18</th>\n",
              "      <td>6.5</td>\n",
              "      <td>2765</td>\n",
              "    </tr>\n",
              "    <tr>\n",
              "      <th>19</th>\n",
              "      <td>14.5</td>\n",
              "      <td>7032</td>\n",
              "    </tr>\n",
              "  </tbody>\n",
              "</table>\n",
              "</div>\n",
              "      <button class=\"colab-df-convert\" onclick=\"convertToInteractive('df-58dc88a2-a0b9-4c3a-bb26-fc1436a0c3c6')\"\n",
              "              title=\"Convert this dataframe to an interactive table.\"\n",
              "              style=\"display:none;\">\n",
              "        \n",
              "  <svg xmlns=\"http://www.w3.org/2000/svg\" height=\"24px\"viewBox=\"0 0 24 24\"\n",
              "       width=\"24px\">\n",
              "    <path d=\"M0 0h24v24H0V0z\" fill=\"none\"/>\n",
              "    <path d=\"M18.56 5.44l.94 2.06.94-2.06 2.06-.94-2.06-.94-.94-2.06-.94 2.06-2.06.94zm-11 1L8.5 8.5l.94-2.06 2.06-.94-2.06-.94L8.5 2.5l-.94 2.06-2.06.94zm10 10l.94 2.06.94-2.06 2.06-.94-2.06-.94-.94-2.06-.94 2.06-2.06.94z\"/><path d=\"M17.41 7.96l-1.37-1.37c-.4-.4-.92-.59-1.43-.59-.52 0-1.04.2-1.43.59L10.3 9.45l-7.72 7.72c-.78.78-.78 2.05 0 2.83L4 21.41c.39.39.9.59 1.41.59.51 0 1.02-.2 1.41-.59l7.78-7.78 2.81-2.81c.8-.78.8-2.07 0-2.86zM5.41 20L4 18.59l7.72-7.72 1.47 1.35L5.41 20z\"/>\n",
              "  </svg>\n",
              "      </button>\n",
              "      \n",
              "  <style>\n",
              "    .colab-df-container {\n",
              "      display:flex;\n",
              "      flex-wrap:wrap;\n",
              "      gap: 12px;\n",
              "    }\n",
              "\n",
              "    .colab-df-convert {\n",
              "      background-color: #E8F0FE;\n",
              "      border: none;\n",
              "      border-radius: 50%;\n",
              "      cursor: pointer;\n",
              "      display: none;\n",
              "      fill: #1967D2;\n",
              "      height: 32px;\n",
              "      padding: 0 0 0 0;\n",
              "      width: 32px;\n",
              "    }\n",
              "\n",
              "    .colab-df-convert:hover {\n",
              "      background-color: #E2EBFA;\n",
              "      box-shadow: 0px 1px 2px rgba(60, 64, 67, 0.3), 0px 1px 3px 1px rgba(60, 64, 67, 0.15);\n",
              "      fill: #174EA6;\n",
              "    }\n",
              "\n",
              "    [theme=dark] .colab-df-convert {\n",
              "      background-color: #3B4455;\n",
              "      fill: #D2E3FC;\n",
              "    }\n",
              "\n",
              "    [theme=dark] .colab-df-convert:hover {\n",
              "      background-color: #434B5C;\n",
              "      box-shadow: 0px 1px 3px 1px rgba(0, 0, 0, 0.15);\n",
              "      filter: drop-shadow(0px 1px 2px rgba(0, 0, 0, 0.3));\n",
              "      fill: #FFFFFF;\n",
              "    }\n",
              "  </style>\n",
              "\n",
              "      <script>\n",
              "        const buttonEl =\n",
              "          document.querySelector('#df-58dc88a2-a0b9-4c3a-bb26-fc1436a0c3c6 button.colab-df-convert');\n",
              "        buttonEl.style.display =\n",
              "          google.colab.kernel.accessAllowed ? 'block' : 'none';\n",
              "\n",
              "        async function convertToInteractive(key) {\n",
              "          const element = document.querySelector('#df-58dc88a2-a0b9-4c3a-bb26-fc1436a0c3c6');\n",
              "          const dataTable =\n",
              "            await google.colab.kernel.invokeFunction('convertToInteractive',\n",
              "                                                     [key], {});\n",
              "          if (!dataTable) return;\n",
              "\n",
              "          const docLinkHtml = 'Like what you see? Visit the ' +\n",
              "            '<a target=\"_blank\" href=https://colab.research.google.com/notebooks/data_table.ipynb>data table notebook</a>'\n",
              "            + ' to learn more about interactive tables.';\n",
              "          element.innerHTML = '';\n",
              "          dataTable['output_type'] = 'display_data';\n",
              "          await google.colab.output.renderOutput(dataTable, element);\n",
              "          const docLink = document.createElement('div');\n",
              "          docLink.innerHTML = docLinkHtml;\n",
              "          element.appendChild(docLink);\n",
              "        }\n",
              "      </script>\n",
              "    </div>\n",
              "  </div>\n",
              "  "
            ]
          },
          "metadata": {},
          "execution_count": 3
        }
      ]
    },
    {
      "cell_type": "code",
      "metadata": {
        "colab": {
          "base_uri": "https://localhost:8080/",
          "height": 295
        },
        "id": "BTemKSaso62O",
        "outputId": "6ab63c0c-621a-4928-9d7f-891725a413c2"
      },
      "source": [
        "import matplotlib.pyplot as plt #VISUALISASI DATA\n",
        "\n",
        "df.plot(kind='scatter', x='Jml_Penduduk', y='Indeks_Kesejahteraan') #UNTUK NAMA VARIABLE\n",
        "\n",
        "plt.title('indeks kesejahteraan warga')\n",
        "plt.xlabel('Jumlah Penduduk')\n",
        "plt.ylabel('Indeks')\n",
        "plt.xlim(0, 10000)\n",
        "plt.ylim(0, 20)\n",
        "plt.grid(True)\n",
        "plt.show()"
      ],
      "execution_count": null,
      "outputs": [
        {
          "output_type": "display_data",
          "data": {
            "text/plain": [
              "<Figure size 432x288 with 1 Axes>"
            ],
            "image/png": "[encoded data removed]"
          },
          "metadata": {
            "needs_background": "light"
          }
        }
      ]
    },
    {
      "cell_type": "code",
      "metadata": {
        "colab": {
          "base_uri": "https://localhost:8080/"
        },
        "id": "BEXsDQLwpue_",
        "outputId": "4f87b02b-b2ca-4350-caf9-dcbfb1c1fe3f"
      },
      "source": [
        "import numpy as np\n",
        "X = np.array(df['Jml_Penduduk']) #Feature\n",
        "y = np.array(df['Indeks_Kesejahteraan']) #Target\n",
        "\n",
        "print(f'X : {X}') #DATA X ITU ADALAH VARIABLE INDEPENDENT ATAU BEBAS\n",
        "print(f'y : {y}') #VAR Y ITU ADALAH VARIABLE TERIKAT/DEPENDENT"
      ],
      "execution_count": null,
      "outputs": [
        {
          "output_type": "stream",
          "name": "stdout",
          "text": [
            "X : [6395 2583 4479 1864 5486 2385 9144 5078 1997 2465 3198 7358 1176 3788\n",
            " 2297 9664 8759 4782 2765 7032]\n",
            "y : [12.3  6.1  9.4  3.5 11.2  5.1 18.6 10.5  3.6  5.9  7.3 15.5  2.6  8.9\n",
            "  4.7 19.3 17.4  9.8  6.5 14.5]\n"
          ]
        }
      ]
    },
    {
      "cell_type": "code",
      "metadata": {
        "colab": {
          "base_uri": "https://localhost:8080/"
        },
        "id": "MAILlAwRqWbp",
        "outputId": "a0955022-6d13-464f-86b2-d05f89ddab8c"
      },
      "source": [
        "X = X.reshape(-1, 1) #Reshaping atau slice data\n",
        "X.shape"
      ],
      "execution_count": null,
      "outputs": [
        {
          "output_type": "execute_result",
          "data": {
            "text/plain": [
              "(20, 1)"
            ]
          },
          "metadata": {},
          "execution_count": 23
        }
      ]
    },
    {
      "cell_type": "code",
      "metadata": {
        "colab": {
          "base_uri": "https://localhost:8080/"
        },
        "id": "9324M8WOqcwa",
        "outputId": "b34c15bc-9e46-4734-b286-bd4058a58633"
      },
      "source": [
        "X"
      ],
      "execution_count": null,
      "outputs": [
        {
          "output_type": "execute_result",
          "data": {
            "text/plain": [
              "array([[6395],\n",
              "       [2583],\n",
              "       [4479],\n",
              "       [1864],\n",
              "       [5486],\n",
              "       [2385],\n",
              "       [9144],\n",
              "       [5078],\n",
              "       [1997],\n",
              "       [2465],\n",
              "       [3198],\n",
              "       [7358],\n",
              "       [1176],\n",
              "       [3788],\n",
              "       [2297],\n",
              "       [9664],\n",
              "       [8759],\n",
              "       [4782],\n",
              "       [2765],\n",
              "       [7032]])"
            ]
          },
          "metadata": {},
          "execution_count": 7
        }
      ]
    },
    {
      "cell_type": "code",
      "metadata": {
        "colab": {
          "base_uri": "https://localhost:8080/"
        },
        "id": "I76h1M5Vqydn",
        "outputId": "8d096506-0532-48fd-bf44-63302b43caf3"
      },
      "source": [
        "#training model \n",
        "from sklearn.linear_model import LinearRegression #MEMANGGIL MODEL REGRESSI LINEAR\n",
        "\n",
        "model = LinearRegression() #VARIABLE MODEL BISA DI GANTI \n",
        "model.fit(X, y) #X feature , y target\n",
        "#(PROSES NILAI X) ----> = Y (TARGET)\n",
        "\n",
        "#menjadi training model"
      ],
      "execution_count": null,
      "outputs": [
        {
          "output_type": "execute_result",
          "data": {
            "text/plain": [
              "LinearRegression()"
            ]
          },
          "metadata": {},
          "execution_count": 8
        }
      ]
    },
    {
      "cell_type": "code",
      "metadata": {
        "id": "uFC2l2wbrPfp"
      },
      "source": [
        "X_vis = np.array([0, 10000]).reshape(-1, 1) #pembuatan garis merah dari X\n",
        "y_vis = model.predict(X_vis) #MODEL MACHINE LEARNING"
      ],
      "execution_count": null,
      "outputs": []
    },
    {
      "cell_type": "code",
      "metadata": {
        "colab": {
          "base_uri": "https://localhost:8080/",
          "height": 295
        },
        "id": "8c37X91Yrao0",
        "outputId": "44fda266-4e13-4910-a993-0e967053d722"
      },
      "source": [
        "plt.scatter(X, y)\n",
        "plt.plot(X_vis, y_vis, '-r')\n",
        "plt.title('indeks kesejahteraan warga')\n",
        "plt.xlabel('Jumlah Penduduk')\n",
        "plt.ylabel('Indeks')\n",
        "plt.xlim(0, 10000) #UNTUK MEMBUAT BATAS PADA VISUALISASI X\n",
        "plt.ylim(0, 20) #UNTUK MEMBUAT BATAS PADA VISUALISASI Y\n",
        "plt.grid(True)\n",
        "plt.show()"
      ],
      "execution_count": null,
      "outputs": [
        {
          "output_type": "display_data",
          "data": {
            "text/plain": [
              "<Figure size 432x288 with 1 Axes>"
            ],
            "image/png": "[encoded data removed]"
          },
          "metadata": {
            "needs_background": "light"
          }
        }
      ]
    },
    {
      "cell_type": "code",
      "metadata": {
        "colab": {
          "base_uri": "https://localhost:8080/"
        },
        "id": "7W_6aCWFsBQv",
        "outputId": "1f54a819-075c-4b5e-958e-41498c541f61"
      },
      "source": [
        "print(f'intercept : {model.intercept_}')\n",
        "print(f'slope : {model.coef_}')\n",
        "# alpha = Intercept merupakan titik dari sumbu Y garis linier menabrak nilai X ketika 0\n",
        "# beta = nilai slope berpengaruh terhadap kemiringan garis linier yang terbentuk"
      ],
      "execution_count": null,
      "outputs": [
        {
          "output_type": "stream",
          "name": "stdout",
          "text": [
            "intercept : 0.5415853834560007\n",
            "slope : [0.00196201]\n"
          ]
        }
      ]
    },
    {
      "cell_type": "code",
      "metadata": {
        "colab": {
          "base_uri": "https://localhost:8080/"
        },
        "id": "YApIHoaKsLuA",
        "outputId": "b4a8c6df-0bc5-4dfe-c984-fd3b054deeb7"
      },
      "source": [
        "print(f'X:\\n{X}\\n')\n",
        "print(f'X Flatten : {X.flatten()}\\n')\n",
        "print(f'y : {y}')"
      ],
      "execution_count": null,
      "outputs": [
        {
          "output_type": "stream",
          "name": "stdout",
          "text": [
            "X:\n",
            "[[6395]\n",
            " [2583]\n",
            " [4479]\n",
            " [1864]\n",
            " [5486]\n",
            " [2385]\n",
            " [9144]\n",
            " [5078]\n",
            " [1997]\n",
            " [2465]\n",
            " [3198]\n",
            " [7358]\n",
            " [1176]\n",
            " [3788]\n",
            " [2297]\n",
            " [9664]\n",
            " [8759]\n",
            " [4782]\n",
            " [2765]\n",
            " [7032]]\n",
            "\n",
            "X Flatten : [6395 2583 4479 1864 5486 2385 9144 5078 1997 2465 3198 7358 1176 3788\n",
            " 2297 9664 8759 4782 2765 7032]\n",
            "\n",
            "y : [12.3  6.1  9.4  3.5 11.2  5.1 18.6 10.5  3.6  5.9  7.3 15.5  2.6  8.9\n",
            "  4.7 19.3 17.4  9.8  6.5 14.5]\n"
          ]
        }
      ]
    },
    {
      "cell_type": "code",
      "metadata": {
        "colab": {
          "base_uri": "https://localhost:8080/"
        },
        "id": "F8nWDFJ3sbK8",
        "outputId": "f8991bcb-6b38-48d3-b10c-25487a826698"
      },
      "source": [
        "variance_X = np.var(X.flatten(), ddof=1)\n",
        "print(f'variance : {variance_X}')"
      ],
      "execution_count": null,
      "outputs": [
        {
          "output_type": "stream",
          "name": "stdout",
          "text": [
            "variance : 6957022.197368421\n"
          ]
        }
      ]
    },
    {
      "cell_type": "code",
      "metadata": {
        "colab": {
          "base_uri": "https://localhost:8080/"
        },
        "id": "aGyK4v89shCc",
        "outputId": "3465cedb-fc40-45df-d156-7067b7168543"
      },
      "source": [
        "np.cov(X.flatten(), y)"
      ],
      "execution_count": null,
      "outputs": [
        {
          "output_type": "execute_result",
          "data": {
            "text/plain": [
              "array([[6.95702220e+06, 1.36497303e+04],\n",
              "       [1.36497303e+04, 2.70139737e+01]])"
            ]
          },
          "metadata": {},
          "execution_count": 14
        }
      ]
    },
    {
      "cell_type": "code",
      "metadata": {
        "colab": {
          "base_uri": "https://localhost:8080/"
        },
        "id": "H6jE8P64tpZd",
        "outputId": "01ee24f5-5792-479e-b31f-96de9e00e51b"
      },
      "source": [
        "#mengukur besarnya hubungan antara dua variable . jika nilai positif maka > o\n",
        "convariance_xy = np.cov(X.flatten(), y)[0][1] #nilai convariance\n",
        "\n",
        "print(f'Convariance {convariance_xy}')"
      ],
      "execution_count": null,
      "outputs": [
        {
          "output_type": "stream",
          "name": "stdout",
          "text": [
            "Convariance 13649.730263157895\n"
          ]
        }
      ]
    },
    {
      "cell_type": "code",
      "metadata": {
        "colab": {
          "base_uri": "https://localhost:8080/"
        },
        "id": "bD_PX8wWuBKX",
        "outputId": "86732140-3ca1-4e5f-e213-f2ab0e50a50d"
      },
      "source": [
        "slope = convariance_xy / variance_X #Mencari Nilai Slope Manual\n",
        "\n",
        "print(f'slope : {slope}')"
      ],
      "execution_count": null,
      "outputs": [
        {
          "output_type": "stream",
          "name": "stdout",
          "text": [
            "slope : 0.0019620075767935704\n"
          ]
        }
      ]
    },
    {
      "cell_type": "code",
      "metadata": {
        "colab": {
          "base_uri": "https://localhost:8080/"
        },
        "id": "RZXK57EguNTI",
        "outputId": "12ccd855-128f-4f08-baf5-b75311ce6aa3"
      },
      "source": [
        "intercept = np.mean(y) - slope * np.mean(X) #Mencari Nilai Intercept secara manual\n",
        "\n",
        "print(f'Intercept {intercept}')"
      ],
      "execution_count": null,
      "outputs": [
        {
          "output_type": "stream",
          "name": "stdout",
          "text": [
            "Intercept 0.5415853834560007\n"
          ]
        }
      ]
    },
    {
      "cell_type": "code",
      "metadata": {
        "colab": {
          "base_uri": "https://localhost:8080/"
        },
        "id": "oF8cJakRupv3",
        "outputId": "06411c16-cc72-4d90-c989-69251c02a7c3"
      },
      "source": [
        "#Prediksi Sample Data\n",
        "jml_penduduk = np.array([422, 1336, 2114, 3000]).reshape(-1, 1)\n",
        "jml_penduduk"
      ],
      "execution_count": null,
      "outputs": [
        {
          "output_type": "execute_result",
          "data": {
            "text/plain": [
              "array([[ 422],\n",
              "       [1336],\n",
              "       [2114],\n",
              "       [3000]])"
            ]
          },
          "metadata": {},
          "execution_count": 24
        }
      ]
    },
    {
      "cell_type": "code",
      "metadata": {
        "colab": {
          "base_uri": "https://localhost:8080/"
        },
        "id": "p25sYmOEu-D0",
        "outputId": "d37eb940-545d-4c61-f973-7c0c7e1eb308"
      },
      "source": [
        "prediksi_indeks = model.predict(jml_penduduk)\n",
        "prediksi_indeks"
      ],
      "execution_count": null,
      "outputs": [
        {
          "output_type": "execute_result",
          "data": {
            "text/plain": [
              "array([1.36955258, 3.16282751, 4.6892694 , 6.42760811])"
            ]
          },
          "metadata": {},
          "execution_count": 25
        }
      ]
    },
    {
      "cell_type": "code",
      "metadata": {
        "colab": {
          "base_uri": "https://localhost:8080/"
        },
        "id": "8BQ7jGjqDfnR",
        "outputId": "c7bfc5d2-ef99-4cea-8b7f-db7b81dc250e"
      },
      "source": [
        "for penduduk, index in zip(jml_penduduk, prediksi_indeks):\n",
        "  print(f'Jumlah Penduduk : {penduduk} prediksi indeks : {index}')"
      ],
      "execution_count": null,
      "outputs": [
        {
          "output_type": "stream",
          "name": "stdout",
          "text": [
            "Jumlah Penduduk : [422] prediksi indeks : 1.3695525808628874\n",
            "Jumlah Penduduk : [1336] prediksi indeks : 3.162827506052211\n",
            "Jumlah Penduduk : [2114] prediksi indeks : 4.689269400797609\n",
            "Jumlah Penduduk : [3000] prediksi indeks : 6.427608113836712\n"
          ]
        }
      ]
    }
  ]
}